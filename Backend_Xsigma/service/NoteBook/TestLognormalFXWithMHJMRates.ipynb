{
 "cells": [
  {
   "cell_type": "code",
   "execution_count": 1,
   "id": "a13a5719",
   "metadata": {},
   "outputs": [
    {
     "ename": "ModuleNotFoundError",
     "evalue": "No module named 'xsigmamodules.TestingUtil'",
     "output_type": "error",
     "traceback": [
      "\u001b[31m---------------------------------------------------------------------------\u001b[39m",
      "\u001b[31mModuleNotFoundError\u001b[39m                       Traceback (most recent call last)",
      "\u001b[36mCell\u001b[39m\u001b[36m \u001b[39m\u001b[32mIn[1]\u001b[39m\u001b[32m, line 7\u001b[39m\n\u001b[32m      4\u001b[39m \u001b[38;5;28;01mfrom\u001b[39;00m \u001b[34;01mitertools\u001b[39;00m \u001b[38;5;28;01mimport\u001b[39;00m chain\n\u001b[32m      6\u001b[39m \u001b[38;5;28;01mfrom\u001b[39;00m \u001b[34;01mxsigmamodules\u001b[39;00m\u001b[34;01m.\u001b[39;00m\u001b[34;01mcommon\u001b[39;00m \u001b[38;5;28;01mimport\u001b[39;00m helper\n\u001b[32m----> \u001b[39m\u001b[32m7\u001b[39m \u001b[38;5;28;01mfrom\u001b[39;00m \u001b[34;01mxsigmamodules\u001b[39;00m\u001b[34;01m.\u001b[39;00m\u001b[34;01mtest\u001b[39;00m \u001b[38;5;28;01mimport\u001b[39;00m Testing\n\u001b[32m      8\u001b[39m \u001b[38;5;28;01mfrom\u001b[39;00m \u001b[34;01mxsigmamodules\u001b[39;00m\u001b[34;01m.\u001b[39;00m\u001b[34;01mmarket\u001b[39;00m \u001b[38;5;28;01mimport\u001b[39;00m market_data\n\u001b[32m      9\u001b[39m \u001b[38;5;28;01mfrom\u001b[39;00m \u001b[34;01mxsigmamodules\u001b[39;00m\u001b[34;01m.\u001b[39;00m\u001b[34;01msimulation\u001b[39;00m \u001b[38;5;28;01mimport\u001b[39;00m simulation\n",
      "\u001b[36mFile \u001b[39m\u001b[32mc:\\Users\\bella\\AppData\\Local\\Programs\\Python\\Python311\\Lib\\site-packages\\xsigmamodules\\test\\Testing.py:58\u001b[39m\n\u001b[32m     56\u001b[39m \u001b[38;5;28;01mimport\u001b[39;00m \u001b[34;01munittest\u001b[39;00m, \u001b[34;01mgetopt\u001b[39;00m\n\u001b[32m     57\u001b[39m \u001b[38;5;28;01mfrom\u001b[39;00m \u001b[34;01mxsigmamodules\u001b[39;00m\u001b[34;01m.\u001b[39;00m\u001b[34;01mCore\u001b[39;00m \u001b[38;5;28;01mimport\u001b[39;00m timerLog\n\u001b[32m---> \u001b[39m\u001b[32m58\u001b[39m \u001b[38;5;28;01mfrom\u001b[39;00m \u001b[34;01mxsigmamodules\u001b[39;00m\u001b[34;01m.\u001b[39;00m\u001b[34;01mTestingUtil\u001b[39;00m \u001b[38;5;28;01mimport\u001b[39;00m regressionTestReader, regressionTestWriter\n\u001b[32m     59\u001b[39m \u001b[38;5;28;01mfrom\u001b[39;00m \u001b[34;01m.\u001b[39;00m \u001b[38;5;28;01mimport\u001b[39;00m BlackBox\n\u001b[32m     61\u001b[39m \u001b[38;5;66;03m# location of the XSIGMA data files.  Set via command line args or\u001b[39;00m\n\u001b[32m     62\u001b[39m \u001b[38;5;66;03m# environment variable.\u001b[39;00m\n",
      "\u001b[31mModuleNotFoundError\u001b[39m: No module named 'xsigmamodules.TestingUtil'"
     ]
    }
   ],
   "source": [
    "import time\n",
    "import numpy as np\n",
    "import matplotlib.pyplot as plt\n",
    "from itertools import chain\n",
    "\n",
    "from xsigmamodules.common import helper\n",
    "from xsigmamodules.test import Testing\n",
    "from xsigmamodules.market import market_data\n",
    "from xsigmamodules.simulation import simulation\n",
    "from xsigmamodules.util.misc import xsigmaGetDataRoot, xsigmaGetTempDir\n",
    "\n",
    "from xsigmamodules.Analytics import (\n",
    "    calibrationIrTargetsConfiguration,\n",
    "    calibrationHjmSettings,\n",
    "    calibrationIrHjm,\n",
    "    correlationManager,\n",
    "    correlationManagerId,\n",
    "    dynamicInstructionId,\n",
    "    dynamicInstructionIrId,\n",
    "    dynamicInstructionIrMarkovianHjm,\n",
    "    dynamicInstructionFxId,\n",
    "    dynamicInstructionFxLognormal,\n",
    "    simulatedMarketDataIrId,\n",
    "    simulatedMarketDataFxId,\n",
    "    simulationManager,\n",
    "    parameter_markovian_hjm_enum,\n",
    "    parameterMarkovianHjmId,\n",
    "    parameterMarkovianHjm,\n",
    "    parameterLognormal,\n",
    "    parameterLognormalId,\n",
    "    measureId,\n",
    "    measure,\n",
    "    randomConfig,\n",
    "    randomConfigId,\n",
    "    lognormalFxWithMhjmIr,\n",
    ")\n",
    "from xsigmamodules.Market import (\n",
    "    discountCurveInterpolated,\n",
    "    irVolatilityDataSabr,\n",
    "    discountCurve,\n",
    "    discountCurveId,\n",
    "    fxForward,\n",
    "    fxForwardId,\n",
    "    anyId,\n",
    "    anyContainer,\n",
    "    anyObject,\n",
    ")\n",
    "from xsigmamodules.Util import dayCountConvention, blackScholes\n",
    "from xsigmamodules.Random import random_enum\n",
    "from xsigmamodules.util.numpy_support import xsigmaToNumpy, numpyToXsigma\n",
    "from xsigmamodules.Vectorization import vector, matrix, tensor, tensor"
   ]
  },
  {
   "cell_type": "code",
   "execution_count": null,
   "id": "c44859a6",
   "metadata": {},
   "outputs": [],
   "source": [
    "XSIGMA_DATA_ROOT = xsigmaGetDataRoot()\n",
    "XSIGMA_TEST_ROOT = xsigmaGetTempDir()\n",
    "# print(XSIGMA_DATA_ROOT)"
   ]
  },
  {
   "cell_type": "code",
   "execution_count": null,
   "id": "ee679432-066c-4994-bb19-56989da3dded",
   "metadata": {},
   "outputs": [],
   "source": [
    "dom_ir_id = discountCurveId(\"USD\", \"LIBOR.3M.USD\")\n",
    "diffusion_dom_id = simulatedMarketDataIrId(dom_ir_id)\n",
    "\n",
    "for_ir_id = discountCurveId(\"EUR\", \"LIBOR.3M.USD\")\n",
    "diffusion_for_id = simulatedMarketDataIrId(for_ir_id)\n",
    "\n",
    "fx_forward_id = fxForwardId(dom_ir_id, for_ir_id)\n",
    "diffusion_fx_id = simulatedMarketDataFxId(fx_forward_id)\n",
    "\n",
    "simulated_ids = [diffusion_dom_id, diffusion_for_id, diffusion_fx_id]"
   ]
  },
  {
   "cell_type": "code",
   "execution_count": null,
   "id": "4b6283a1-efc4-4a54-81a8-84bcaf030a66",
   "metadata": {},
   "outputs": [],
   "source": [
    "anyids = [anyId(dynamicInstructionIrId(diffusion_dom_id))]\n",
    "anyobject = [anyObject(dynamicInstructionIrMarkovianHjm())]\n",
    "\n",
    "anyids.append(anyId(dynamicInstructionIrId(diffusion_for_id)))\n",
    "anyobject.append(anyObject(dynamicInstructionIrMarkovianHjm()))\n",
    "\n",
    "anyids.append(anyId(dynamicInstructionFxId(diffusion_fx_id)))\n",
    "anyobject.append(anyObject(dynamicInstructionFxLognormal()))"
   ]
  },
  {
   "cell_type": "code",
   "execution_count": null,
   "id": "536e3802",
   "metadata": {},
   "outputs": [],
   "source": [
    "params_dom = parameterMarkovianHjm.read_from_json(\n",
    "    XSIGMA_DATA_ROOT + \"/Data/parameterMarkovianHjmLIBOR.3M.USD_USD.json\"\n",
    ")\n",
    "anyids.append(anyId(parameterMarkovianHjmId(diffusion_dom_id)))\n",
    "anyobject.append(anyObject(params_dom))\n",
    "\n",
    "params_for = parameterMarkovianHjm.read_from_json(\n",
    "    XSIGMA_DATA_ROOT + \"/Data/parameterMarkovianHjmLIBOR.3M.USD_EUR.json\"\n",
    ")\n",
    "anyids.append(anyId(parameterMarkovianHjmId(diffusion_for_id)))\n",
    "anyobject.append(anyObject(params_for))"
   ]
  },
  {
   "cell_type": "code",
   "execution_count": null,
   "id": "52fcd0f8",
   "metadata": {},
   "outputs": [],
   "source": [
    "discount_curve = discountCurveInterpolated.read_from_json(\n",
    "    XSIGMA_DATA_ROOT + \"/Data/discountCurve.json\"\n",
    ")\n",
    "anyids.append(anyId(dom_ir_id))\n",
    "anyobject.append(anyObject(discount_curve))\n",
    "\n",
    "anyids.append(anyId(for_ir_id))\n",
    "anyobject.append(anyObject(discount_curve))\n",
    "\n",
    "fx_forward = fxForward(\n",
    "    discount_curve.valuation_date(), 1, discount_curve, discount_curve\n",
    ")\n",
    "anyids.append(anyId(fx_forward_id))\n",
    "anyobject.append(anyObject(fx_forward))"
   ]
  },
  {
   "cell_type": "code",
   "execution_count": null,
   "id": "4537b9c5",
   "metadata": {},
   "outputs": [],
   "source": [
    "correlation_mgr = correlationManager.read_from_json(\n",
    "    XSIGMA_DATA_ROOT + \"/Data/correlationManager.json\"\n",
    ")\n",
    "anyids.append(anyId(correlationManagerId()))\n",
    "anyobject.append(anyObject(correlation_mgr))"
   ]
  },
  {
   "cell_type": "code",
   "execution_count": null,
   "id": "a5e88598",
   "metadata": {},
   "outputs": [],
   "source": [
    "correlation = correlation_mgr.pair_correlation_matrix(simulated_ids, simulated_ids)\n",
    "valuation_date = correlation_mgr.valuation_date()\n",
    "calibrator = lognormalFxWithMhjmIr(valuation_date, correlation, params_dom, params_for)\n",
    "\n",
    "convention = dayCountConvention()\n",
    "\n",
    "calibration_dates = helper.simulation_dates(valuation_date, \"3M\", 120)\n",
    "expiry_fraction = helper.convert_dates_to_fraction(\n",
    "    valuation_date, calibration_dates, convention\n",
    ")\n",
    "\n",
    "volatility = 0.3\n",
    "market_variance = []\n",
    "for i in range(0, len(calibration_dates)):\n",
    "    market_variance.append(volatility * volatility * expiry_fraction[i])"
   ]
  },
  {
   "cell_type": "code",
   "execution_count": null,
   "id": "40fe3480",
   "metadata": {},
   "outputs": [],
   "source": [
    "params_fx = calibrator.calibrate(calibration_dates, market_variance, convention)\n",
    "anyids.append(anyId(parameterLognormalId(diffusion_fx_id)))\n",
    "anyobject.append(anyObject(params_fx))"
   ]
  },
  {
   "cell_type": "code",
   "execution_count": null,
   "id": "d69d8467",
   "metadata": {},
   "outputs": [],
   "source": [
    "anyids.append(anyId(measureId()))\n",
    "anyobject.append(anyObject(measure(dom_ir_id)))\n",
    "\n",
    "num_of_paths = 262144 * 2\n",
    "config = randomConfig(random_enum.SOBOL_BROWNIAN_BRIDGE, 542897, num_of_paths)\n",
    "anyids.append(anyId(randomConfigId()))\n",
    "anyobject.append(anyObject(config))"
   ]
  },
  {
   "cell_type": "code",
   "execution_count": null,
   "id": "49d09aef-55fc-43ec-8ed7-4683908eb69a",
   "metadata": {},
   "outputs": [],
   "source": [
    "market = anyContainer(anyids, anyobject)\n",
    "simulation_mgr = simulationManager(simulated_ids, market, calibration_dates)"
   ]
  },
  {
   "cell_type": "code",
   "execution_count": null,
   "id": "efaf3412",
   "metadata": {},
   "outputs": [],
   "source": [
    "maturity = max(calibration_dates)\n",
    "\n",
    "diffusion_curve_domestic = simulation_mgr.discount_curve(diffusion_dom_id)\n",
    "diffusion_curve_foreign = simulation_mgr.discount_curve(diffusion_for_id)\n",
    "diffusion_fx = simulation_mgr.fx_forward(diffusion_fx_id)\n",
    "\n",
    "dis_for_curve = discount_curve\n",
    "dis_dom_curve = discount_curve\n",
    "\n",
    "mm_dom = np.zeros(num_of_paths)\n",
    "mm_for = np.zeros(num_of_paths)\n",
    "spot_fx_fwd = np.zeros(num_of_paths)\n",
    "log_discount_factor = np.zeros(num_of_paths)\n",
    "\n",
    "mm_dom_ = numpyToXsigma(mm_dom)\n",
    "mm_for_ = numpyToXsigma(mm_for)\n",
    "spot_fx_fwd_ = numpyToXsigma(spot_fx_fwd)\n",
    "log_discount_factor_ = numpyToXsigma(log_discount_factor)\n",
    "\n",
    "results_mm_market = []\n",
    "results_df_market = []\n",
    "results_mm = []\n",
    "results_df = []\n",
    "model_vol = []\n",
    "market_vol = []\n",
    "model_stradle_vol = []\n",
    "fwds = []\n",
    "strikes = []\n",
    "\n",
    "df_for_maturity = dis_for_curve.df(valuation_date, maturity)\n",
    "\n",
    "simulation_mgr.states_initialize(0)\n",
    "for t in range(1, len(calibration_dates)):\n",
    "    conditional_date = calibration_dates[t]\n",
    "    simulation_mgr.propagate(t)\n",
    "\n",
    "    diffusion_curve_domestic.discounting(mm_dom_, conditional_date)\n",
    "\n",
    "    diffusion_curve_foreign.discounting(mm_for_, conditional_date)\n",
    "    diffusion_curve_foreign.log_df(log_discount_factor_, conditional_date, maturity)\n",
    "\n",
    "    diffusion_fx.forward(spot_fx_fwd_, conditional_date)\n",
    "\n",
    "    # martingal rules:\n",
    "    df_for_market = dis_for_curve.df(valuation_date, conditional_date)\n",
    "    df_dom_market = dis_dom_curve.df(valuation_date, conditional_date)\n",
    "    results_mm_market.append(0.0)\n",
    "    results_mm.append(np.average(mm_dom * spot_fx_fwd / mm_for) - 1.0)\n",
    "    results_df_market.append(0.0)\n",
    "    results_df.append(\n",
    "        np.average(mm_dom * np.exp(log_discount_factor) * spot_fx_fwd) / df_for_maturity\n",
    "        - 1\n",
    "    )\n",
    "\n",
    "    fwd = fx_forward.forward(conditional_date)\n",
    "    strike = np.average(mm_dom * spot_fx_fwd) / np.average(mm_dom) - 1.0\n",
    "    strikes.append(strike)\n",
    "    fwds.append(fwd)\n",
    "    # option pricing:\n",
    "    model_stradle_vol.append(np.average(mm_dom * (spot_fx_fwd - fwd)))\n",
    "    fx_call_price = np.average(mm_dom * np.maximum(spot_fx_fwd - fwd, 0.0))\n",
    "    fx_put_price = np.average(mm_dom * np.maximum(fwd - spot_fx_fwd, 0.0))\n",
    "    expiry_double = convention.fraction(valuation_date, conditional_date)\n",
    "    model_vol.append(\n",
    "        0.5\n",
    "        * (\n",
    "            blackScholes.implied_volatility(\n",
    "                fwd, fwd, expiry_double, fx_call_price, df_dom_market, 1.0\n",
    "            )\n",
    "            + blackScholes.implied_volatility(\n",
    "                fwd, fwd, expiry_double, fx_put_price, df_dom_market, -1.0\n",
    "            )\n",
    "        )\n",
    "    )\n",
    "    market_vol.append(np.sqrt(market_variance[t] / expiry_double))"
   ]
  },
  {
   "cell_type": "code",
   "execution_count": null,
   "id": "efef9319-330e-49cd-a095-e66c71b2c0af",
   "metadata": {},
   "outputs": [],
   "source": [
    "plt.plot(strikes)\n",
    "# plt.plot(fwds)\n",
    "# print(strikes)\n",
    "plt.show()"
   ]
  },
  {
   "cell_type": "code",
   "execution_count": null,
   "id": "9f7890a2-b6c1-443a-b21a-a99ddd9c120f",
   "metadata": {},
   "outputs": [],
   "source": [
    "plt.plot(model_vol)\n",
    "plt.plot(market_vol)\n",
    "plt.show()"
   ]
  },
  {
   "cell_type": "code",
   "execution_count": null,
   "id": "2856c446-b49c-4e0e-aafd-6a505e0a8b78",
   "metadata": {},
   "outputs": [],
   "source": [
    "plt.plot(results_df)\n",
    "plt.plot(results_mm)\n",
    "plt.show()"
   ]
  },
  {
   "cell_type": "code",
   "execution_count": null,
   "id": "8543777d-da6e-4e2d-aac7-691109b891fb",
   "metadata": {},
   "outputs": [],
   "source": []
  }
 ],
 "metadata": {
  "kernelspec": {
   "display_name": "Python 3",
   "language": "python",
   "name": "python3"
  },
  "language_info": {
   "codemirror_mode": {
    "name": "ipython",
    "version": 3
   },
   "file_extension": ".py",
   "mimetype": "text/x-python",
   "name": "python",
   "nbconvert_exporter": "python",
   "pygments_lexer": "ipython3",
   "version": "3.11.9"
  }
 },
 "nbformat": 4,
 "nbformat_minor": 5
}
