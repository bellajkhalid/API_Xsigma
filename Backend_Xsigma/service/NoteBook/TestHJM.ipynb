{
 "cells": [
  {
   "cell_type": "code",
   "execution_count": 1,
   "metadata": {
    "editable": true,
    "slideshow": {
     "slide_type": ""
    },
    "tags": []
   },
   "outputs": [],
   "source": [
    "import time\n",
    "import numpy as np\n",
    "import matplotlib.pyplot as plt\n",
    "from itertools import chain\n",
    "from xsigmamodules.Random import random_enum\n",
    "from xsigmamodules.Analytics import (\n",
    "    calibrationIrTargetsConfiguration,\n",
    "    correlationManager,\n",
    "    calibrationHjmSettings,\n",
    "    parameter_markovian_hjm_enum,\n",
    "    calibrationIrHjm,\n",
    "    parameterMarkovianHjmId,\n",
    "    parameterMarkovianHjm,\n",
    "    dynamicInstructionId,\n",
    "    dynamicInstructionIrMarkovianHjm,\n",
    "    simulatedMarketDataIrId,\n",
    "    correlationManagerId,\n",
    "    dynamicInstructionIrId,\n",
    "    measureId,\n",
    "    measure,\n",
    "    randomConfig,\n",
    "    simulationManager,\n",
    "    randomConfigId,\n",
    ")\n",
    "\n",
    "from xsigmamodules.Util import dayCountConvention\n",
    "from xsigmamodules.Vectorization import vector, matrix, tensor, tensor\n",
    "from xsigmamodules.util.numpy_support import xsigmaToNumpy, numpyToXsigma\n",
    "from xsigmamodules.common import helper\n",
    "from xsigmamodules.market import market_data\n",
    "from xsigmamodules.simulation import simulation\n",
    "from xsigmamodules.util.misc import xsigmaGetDataRoot, xsigmaGetTempDir\n",
    "from xsigmamodules.Market import (\n",
    "    discountCurveInterpolated,\n",
    "    discountCurveId,\n",
    "    anyId,\n",
    "    anyContainer,\n",
    "    anyObject,\n",
    "    irVolatilityDataSabr,\n",
    "    discountCurveFlat,\n",
    ")"
   ]
  },
  {
   "cell_type": "markdown",
   "metadata": {},
   "source": [
    "# Folders"
   ]
  },
  {
   "cell_type": "code",
   "execution_count": 2,
   "metadata": {},
   "outputs": [],
   "source": [
    "XSIGMA_DATA_ROOT = xsigmaGetDataRoot()\n",
    "XSIGMA_TEST_ROOT = xsigmaGetTempDir()"
   ]
  },
  {
   "cell_type": "code",
   "execution_count": 3,
   "metadata": {},
   "outputs": [
    {
     "name": "stdout",
     "output_type": "stream",
     "text": [
      "C:/dev/PRETORIAN/Testing\n"
     ]
    }
   ],
   "source": [
    "print(XSIGMA_DATA_ROOT)"
   ]
  },
  {
   "cell_type": "code",
   "execution_count": 4,
   "metadata": {},
   "outputs": [],
   "source": [
    "discount_id = discountCurveId(\"USD\", \"LIBOR.3M.USD\")\n",
    "diffusion_id = simulatedMarketDataIrId(discount_id)\n",
    "\n",
    "discount_curve = discountCurveInterpolated.read_from_json(\n",
    "    XSIGMA_DATA_ROOT + \"/Data/discountCurve.json\"\n",
    ")\n",
    "anyids = [anyId(discount_id)]\n",
    "anyobject = [anyObject(discount_curve)]\n",
    "\n",
    "correlation_mgr = correlationManager.read_from_json(\n",
    "    XSIGMA_DATA_ROOT + \"/Data/correlationManager.json\"\n",
    ")\n",
    "anyids.append(anyId(correlationManagerId()))\n",
    "anyobject.append(anyObject(correlation_mgr))\n",
    "\n",
    "valuation_date = discount_curve.valuation_date()\n",
    "\n",
    "target_config = calibrationIrTargetsConfiguration.read_from_json(\n",
    "    XSIGMA_DATA_ROOT + \"/Data/calibrationIrTargetsConfiguration.json\"\n",
    ")\n",
    "\n",
    "ir_volatility_surface = irVolatilityDataSabr.read_from_json(\n",
    "    XSIGMA_DATA_ROOT + \"/Data/irVolatilityData.json\"\n",
    ")"
   ]
  },
  {
   "cell_type": "code",
   "execution_count": 5,
   "metadata": {},
   "outputs": [],
   "source": [
    "diffusion_ids = [diffusion_id]\n",
    "correlation = correlation_mgr.pair_correlation_matrix(diffusion_ids, diffusion_ids)"
   ]
  },
  {
   "cell_type": "markdown",
   "metadata": {},
   "source": [
    "# Load data"
   ]
  },
  {
   "cell_type": "code",
   "execution_count": 6,
   "metadata": {},
   "outputs": [],
   "source": [
    "# M_np = np.array([[1.0,\t-0.5,  -0.5,\t-0.5],\n",
    "#                 [-0.5,\t 1.0,\t-0.5,\t-0.5],\n",
    "#                 [-0.5,\t-0.5,\t1.0,\t-0.5],\n",
    "#                 [-0.5,\t-0.5,\t-0.5,\t1.0]], \"d\")\n",
    "# correlation = numpyToXsigma(M_np)\n",
    "# correlation_mgr = correlationManager(valuation_date, diffusion_ids, [4], correlation)\n",
    "\n",
    "volatility_bounds = [0.0001, 1]\n",
    "decay_bounds = [0.0001, 1.0]\n",
    "calibration_settings = calibrationHjmSettings(\n",
    "    correlation.rows(),\n",
    "    volatility_bounds,\n",
    "    decay_bounds,\n",
    "    parameter_markovian_hjm_enum.PICEWISE_CONSTANT,\n",
    "    True,\n",
    "    200,\n",
    "    False,\n",
    "    False,\n",
    "    1.0,\n",
    ")\n",
    "calibration_settings_aad = calibrationHjmSettings(\n",
    "    correlation.rows(),\n",
    "    volatility_bounds,\n",
    "    decay_bounds,\n",
    "    parameter_markovian_hjm_enum.PICEWISE_CONSTANT,\n",
    "    True,\n",
    "    200,\n",
    "    True,\n",
    "    False,\n",
    "    1.0,\n",
    ")\n",
    "convention = dayCountConvention()"
   ]
  },
  {
   "cell_type": "code",
   "execution_count": 7,
   "metadata": {},
   "outputs": [],
   "source": [
    "# print(target_config)"
   ]
  },
  {
   "cell_type": "markdown",
   "metadata": {},
   "source": [
    "# Static data"
   ]
  },
  {
   "cell_type": "code",
   "execution_count": 8,
   "metadata": {},
   "outputs": [],
   "source": [
    "mkt_data_obj = market_data.market_data(XSIGMA_DATA_ROOT)"
   ]
  },
  {
   "cell_type": "code",
   "execution_count": 9,
   "metadata": {},
   "outputs": [],
   "source": [
    "calibrator = calibrationIrHjm(valuation_date, target_config)"
   ]
  },
  {
   "cell_type": "markdown",
   "metadata": {},
   "source": [
    "# Run calibration"
   ]
  },
  {
   "cell_type": "code",
   "execution_count": 10,
   "metadata": {},
   "outputs": [
    {
     "name": "stdout",
     "output_type": "stream",
     "text": [
      "0.07255744934082031\n"
     ]
    }
   ],
   "source": [
    "start = time.time()\n",
    "parameter = calibrator.calibrate(\n",
    "    parameterMarkovianHjmId(diffusion_id),\n",
    "    calibration_settings_aad,\n",
    "    discount_curve,\n",
    "    ir_volatility_surface,\n",
    "    correlation_mgr,\n",
    ")\n",
    "end = time.time()\n",
    "m1 = end - start\n",
    "print(end - start)"
   ]
  },
  {
   "cell_type": "code",
   "execution_count": 11,
   "metadata": {},
   "outputs": [
    {
     "name": "stdout",
     "output_type": "stream",
     "text": [
      "1.4948210716247559\n"
     ]
    }
   ],
   "source": [
    "start = time.time()\n",
    "parameter = calibrator.calibrate(\n",
    "    parameterMarkovianHjmId(diffusion_id),\n",
    "    calibration_settings,\n",
    "    discount_curve,\n",
    "    ir_volatility_surface,\n",
    "    correlation_mgr,\n",
    ")\n",
    "end = time.time()\n",
    "m2 = end - start\n",
    "print(end - start)"
   ]
  },
  {
   "cell_type": "code",
   "execution_count": 12,
   "metadata": {},
   "outputs": [
    {
     "data": {
      "text/plain": [
       "20.601896637838124"
      ]
     },
     "execution_count": 12,
     "metadata": {},
     "output_type": "execute_result"
    }
   ],
   "source": [
    "m2 / m1"
   ]
  },
  {
   "cell_type": "markdown",
   "metadata": {},
   "source": [
    "# Simulation"
   ]
  },
  {
   "cell_type": "code",
   "execution_count": 13,
   "metadata": {},
   "outputs": [
    {
     "ename": "KeyboardInterrupt",
     "evalue": "",
     "output_type": "error",
     "traceback": [
      "\u001b[31m---------------------------------------------------------------------------\u001b[39m",
      "\u001b[31mKeyboardInterrupt\u001b[39m                         Traceback (most recent call last)",
      "\u001b[36mCell\u001b[39m\u001b[36m \u001b[39m\u001b[32mIn[13]\u001b[39m\u001b[32m, line 33\u001b[39m\n\u001b[32m     20\u001b[39m maturity = \u001b[38;5;28mmax\u001b[39m(simulation_dates)\n\u001b[32m     22\u001b[39m sim = simulation.Simulation(\n\u001b[32m     23\u001b[39m     mkt_data_obj,\n\u001b[32m     24\u001b[39m     num_of_paths,\n\u001b[32m   (...)\u001b[39m\u001b[32m     30\u001b[39m     simulation_dates,\n\u001b[32m     31\u001b[39m )\n\u001b[32m---> \u001b[39m\u001b[32m33\u001b[39m \u001b[43msim\u001b[49m\u001b[43m.\u001b[49m\u001b[43mrun_simulation\u001b[49m\u001b[43m(\u001b[49m\u001b[43mdiffusion_ids\u001b[49m\u001b[43m,\u001b[49m\u001b[43m \u001b[49m\u001b[43mmarket\u001b[49m\u001b[43m,\u001b[49m\u001b[43m \u001b[49m\u001b[43msimulation_dates\u001b[49m\u001b[43m)\u001b[49m\n",
      "\u001b[36mFile \u001b[39m\u001b[32mc:\\Users\\bella\\AppData\\Local\\Programs\\Python\\Python311\\Lib\\site-packages\\xsigmamodules\\simulation\\simulation.py:237\u001b[39m, in \u001b[36mSimulation.run_simulation\u001b[39m\u001b[34m(self, simulated_ids, market, simulation_dates)\u001b[39m\n\u001b[32m    235\u001b[39m \u001b[38;5;28;01mfor\u001b[39;00m t \u001b[38;5;129;01min\u001b[39;00m \u001b[38;5;28mrange\u001b[39m(\u001b[32m1\u001b[39m, \u001b[38;5;28mlen\u001b[39m(simulation_dates)):\n\u001b[32m    236\u001b[39m     simulation_mgr.propagate(t)\n\u001b[32m--> \u001b[39m\u001b[32m237\u001b[39m     \u001b[38;5;28;43mself\u001b[39;49m\u001b[43m.\u001b[49m\u001b[43mprocess\u001b[49m\u001b[43m(\u001b[49m\u001b[43mt\u001b[49m\u001b[43m,\u001b[49m\u001b[43m \u001b[49m\u001b[43mcurve_diffusion\u001b[49m\u001b[43m,\u001b[49m\u001b[43m \u001b[49m\u001b[43msimulation_dates\u001b[49m\u001b[43m[\u001b[49m\u001b[43mt\u001b[49m\u001b[43m]\u001b[49m\u001b[43m)\u001b[49m\n",
      "\u001b[36mFile \u001b[39m\u001b[32mc:\\Users\\bella\\AppData\\Local\\Programs\\Python\\Python311\\Lib\\site-packages\\xsigmamodules\\simulation\\simulation.py:163\u001b[39m, in \u001b[36mSimulation.process\u001b[39m\u001b[34m(self, t, curve_diffusion, simulation_date)\u001b[39m\n\u001b[32m    160\u001b[39m \u001b[38;5;28;01mdef\u001b[39;00m \u001b[34mplot\u001b[39m(\u001b[38;5;28mself\u001b[39m, simulation_dates):\n\u001b[32m    161\u001b[39m     \u001b[38;5;28mself\u001b[39m.results.plot_charts(\u001b[38;5;28mself\u001b[39m.market_data, simulation_dates)\n\u001b[32m--> \u001b[39m\u001b[32m163\u001b[39m \u001b[38;5;28;01mdef\u001b[39;00m \u001b[34mprocess\u001b[39m(\u001b[38;5;28mself\u001b[39m, t, curve_diffusion, simulation_date):\n\u001b[32m    164\u001b[39m     \u001b[38;5;28;01mif\u001b[39;00m t == \u001b[32m0\u001b[39m:\n\u001b[32m    165\u001b[39m         \u001b[38;5;28mself\u001b[39m.results.markov_result_df.append(\u001b[32m0\u001b[39m)\n",
      "\u001b[31mKeyboardInterrupt\u001b[39m: "
     ]
    }
   ],
   "source": [
    "anyids.append(anyId(parameterMarkovianHjmId(diffusion_id)))\n",
    "anyobject.append(anyObject(parameter))\n",
    "\n",
    "anyids.append(anyId(dynamicInstructionIrId(diffusion_id)))\n",
    "anyobject.append(anyObject(dynamicInstructionIrMarkovianHjm()))\n",
    "\n",
    "anyids.append(anyId(measureId()))\n",
    "anyobject.append(anyObject(measure(discount_id)))\n",
    "\n",
    "num_of_paths = 262144 * 2\n",
    "config = randomConfig(random_enum.SOBOL_BROWNIAN_BRIDGE, 12765793, num_of_paths)\n",
    "\n",
    "anyids.append(anyId(randomConfigId()))\n",
    "anyobject.append(anyObject(config))\n",
    "\n",
    "market = anyContainer(anyids, anyobject)\n",
    "\n",
    "simulation_dates = helper.simulation_dates(valuation_date, \"3M\", 120)\n",
    "\n",
    "maturity = max(simulation_dates)\n",
    "\n",
    "sim = simulation.Simulation(\n",
    "    mkt_data_obj,\n",
    "    num_of_paths,\n",
    "    target_config.frequency(),\n",
    "    target_config.expiries(),\n",
    "    target_config.cms_tenors(),\n",
    "    target_config.coterminal(),\n",
    "    maturity,\n",
    "    simulation_dates,\n",
    ")\n",
    "\n",
    "sim.run_simulation(diffusion_ids, market, simulation_dates)"
   ]
  },
  {
   "cell_type": "code",
   "execution_count": null,
   "metadata": {},
   "outputs": [],
   "source": [
    "sim.plot(simulation_dates)"
   ]
  },
  {
   "cell_type": "code",
   "execution_count": null,
   "metadata": {},
   "outputs": [],
   "source": []
  },
  {
   "cell_type": "code",
   "execution_count": null,
   "metadata": {},
   "outputs": [],
   "source": []
  }
 ],
 "metadata": {
  "kernelspec": {
   "display_name": "Python 3",
   "language": "python",
   "name": "python3"
  },
  "language_info": {
   "codemirror_mode": {
    "name": "ipython",
    "version": 3
   },
   "file_extension": ".py",
   "mimetype": "text/x-python",
   "name": "python",
   "nbconvert_exporter": "python",
   "pygments_lexer": "ipython3",
   "version": "3.11.9"
  }
 },
 "nbformat": 4,
 "nbformat_minor": 4
}
