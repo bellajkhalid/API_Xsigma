{
 "cells": [
  {
   "cell_type": "code",
   "execution_count": 1,
   "metadata": {},
   "outputs": [],
   "source": [
    "from xsigmamodules.Util import datetimeHelper, dayCountConvention, yearMonthDay\n",
    "from xsigmamodules.Market import (\n",
    "    discountCurveFlat,\n",
    "    anyObject,\n",
    "    anyId,\n",
    "    discountCurveId,\n",
    "    anyContainer,\n",
    "    discountCurve,\n",
    "    marketData,\n",
    ")\n",
    "from xsigmamodules.util.misc import xsigmaGetDataRoot, xsigmaGetTempDir"
   ]
  },
  {
   "cell_type": "code",
   "execution_count": 2,
   "metadata": {},
   "outputs": [],
   "source": [
    "XSIGMA_DATA_ROOT = xsigmaGetDataRoot()"
   ]
  },
  {
   "cell_type": "code",
   "execution_count": 3,
   "metadata": {},
   "outputs": [],
   "source": [
    "valution_date = yearMonthDay(2020, 1, 21).to_datetime()\n",
    "\n",
    "obj = discountCurveFlat(valution_date, 0.01, dayCountConvention())\n",
    "obj.write_to_json(XSIGMA_DATA_ROOT + \"/discount_curve_flat.json\", obj)\n",
    "\n",
    "\n",
    "rhs = anyObject(obj)\n",
    "rhs.write_to_json(XSIGMA_DATA_ROOT + \"/any_object_discount_curve_flat.json\", rhs)"
   ]
  },
  {
   "cell_type": "code",
   "execution_count": 4,
   "metadata": {},
   "outputs": [],
   "source": [
    "rhs2 = anyObject.read_from_json(\n",
    "    XSIGMA_DATA_ROOT + \"/any_object_discount_curve_flat.json\"\n",
    ")"
   ]
  },
  {
   "cell_type": "code",
   "execution_count": 5,
   "metadata": {},
   "outputs": [
    {
     "data": {
      "text/plain": [
       "0"
      ]
     },
     "execution_count": 5,
     "metadata": {},
     "output_type": "execute_result"
    }
   ],
   "source": [
    "rhs2.index()\n",
    "# print(rhs2)"
   ]
  },
  {
   "cell_type": "code",
   "execution_count": 6,
   "metadata": {},
   "outputs": [],
   "source": [
    "discount_id = discountCurveId(\"EUR3M\", \"EUR\")"
   ]
  },
  {
   "cell_type": "code",
   "execution_count": 7,
   "metadata": {},
   "outputs": [
    {
     "name": "stdout",
     "output_type": "stream",
     "text": [
      "{\n",
      "  \"Class\": \"xsigma::discount_curve_id\",\n",
      "  \"id_\": {\n",
      "    \"Class\": \"xsigma::discount_definition\",\n",
      "    \"id_\": \"EUR\"\n",
      "  },\n",
      "  \"ccy_\": {\n",
      "    \"Class\": \"xsigma::currency\",\n",
      "    \"ccy_\": \"EUR3M\"\n",
      "  }\n",
      "}\n"
     ]
    }
   ],
   "source": [
    "print(discount_id)"
   ]
  },
  {
   "cell_type": "code",
   "execution_count": 8,
   "metadata": {},
   "outputs": [],
   "source": [
    "any_id = anyId(discount_id)"
   ]
  },
  {
   "cell_type": "code",
   "execution_count": 9,
   "metadata": {},
   "outputs": [],
   "source": [
    "mkt = anyContainer([any_id], [rhs])"
   ]
  },
  {
   "cell_type": "code",
   "execution_count": 10,
   "metadata": {},
   "outputs": [
    {
     "name": "stdout",
     "output_type": "stream",
     "text": [
      "{\n",
      "  \"Class\": \"xsigma::any_container\",\n",
      "  \"data_map_\": [\n",
      "    11863339895625495979,\n",
      "    {\n",
      "      \"Class\": \"xsigma::any_object\",\n",
      "      \"var_\": {\n",
      "        \"Index\": 0,\n",
      "        \"Value\": {\n",
      "          \"Class\": \"xsigma::discount_curve_flat\",\n",
      "          \"rates_\": 0.01,\n",
      "          \"valuation_date_\": 43851.0,\n",
      "          \"convention_\": {\n",
      "            \"Class\": \"xsigma::day_count_convention\",\n",
      "            \"type_\": \"ACT_365\",\n",
      "            \"calendar_\": {\n",
      "              \"Class\": \"null object!\"\n",
      "            }\n",
      "          }\n",
      "        }\n",
      "      }\n",
      "    }\n",
      "  ]\n",
      "}\n"
     ]
    }
   ],
   "source": [
    "print(mkt)"
   ]
  },
  {
   "cell_type": "code",
   "execution_count": 11,
   "metadata": {},
   "outputs": [],
   "source": [
    "any_id2 = anyId(discountCurveId(\"EUR6M\", \"EUR\"))\n",
    "obj2 = anyObject(obj)"
   ]
  },
  {
   "cell_type": "code",
   "execution_count": 12,
   "metadata": {},
   "outputs": [],
   "source": [
    "mkt.update([any_id2], [obj2])"
   ]
  },
  {
   "cell_type": "code",
   "execution_count": 13,
   "metadata": {},
   "outputs": [
    {
     "name": "stdout",
     "output_type": "stream",
     "text": [
      "<xsigmamodules.Market.discountCurve(0x000001AEFDB112A0) at 0x000001AEFDB112A0>\n"
     ]
    }
   ],
   "source": [
    "curve = discountCurve.static_cast(mkt.get(any_id2))\n",
    "print(curve)"
   ]
  }
 ],
 "metadata": {
  "kernelspec": {
   "display_name": "Python 3 (ipykernel)",
   "language": "python",
   "name": "python3"
  },
  "language_info": {
   "codemirror_mode": {
    "name": "ipython",
    "version": 3
   },
   "file_extension": ".py",
   "mimetype": "text/x-python",
   "name": "python",
   "nbconvert_exporter": "python",
   "pygments_lexer": "ipython3",
   "version": "3.12.7"
  }
 },
 "nbformat": 4,
 "nbformat_minor": 4
}
